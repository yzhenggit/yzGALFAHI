{
 "cells": [
  {
   "cell_type": "code",
   "execution_count": 2,
   "metadata": {},
   "outputs": [],
   "source": [
    "%matplotlib inline \n",
    "import astropy.io.fits as fits\n",
    "from astropy.coordinates import SkyCoord\n",
    "import astropy.io.fits as fits \n",
    "import astropy.units as u\n",
    "import numpy as np\n",
    "# you can download get_cubeinfo.py from my github\n",
    "# https://github.com/yzhenggit/yzGALFAHI/blob/master/get_cubeinfo.py\n",
    "from yzGALFAHI.get_cubeinfo import get_cubeinfo "
   ]
  },
  {
   "cell_type": "code",
   "execution_count": 3,
   "metadata": {},
   "outputs": [],
   "source": [
    "def extract_HI_from_cube(tar_ra, tar_dec, header, cube_data, radius_deg):\n",
    "    '''\n",
    "    tar_ra/tar_dec: the ra/dec for the sightline, in degree\n",
    "    radius_deg: the radius of the extraction area, in unit of degree\n",
    "          Note that, HI4PI's beamsize is 16 arcmin\n",
    "          and GALFA-HI's beamsize is 4 arcmin. \n",
    "    '''\n",
    "    \n",
    "    # get sky coordinate for the target\n",
    "    tar_coord = SkyCoord(ra=tar_ra*u.deg, dec=tar_dec*u.deg, frame='icrs')\n",
    "    print('Sightline: RA=%.2f, DEC=%.2f, l=%.2f, b=%.2f (degree)'%(tar_ra, tar_dec, \n",
    "                                                                   tar_coord.galactic.l.degree, \n",
    "                                                                   tar_coord.galactic.b.degree))\n",
    "    print('Extracted within radius: %.2f arcmin (%.2f deg)'%(radius_deg*60, radius_deg))\n",
    "    \n",
    "    # parse the cube header information to get RA/DEC coordinators \n",
    "    cube_ra, cube_dec, cube_vel = get_cubeinfo(header)\n",
    "    cube_coord = SkyCoord(ra=cube_ra*u.deg, dec=cube_dec*u.deg, frame='icrs')\n",
    "    print('Cube RA range: [%.2f, %.2f], DEC range: [%.2f, %.2f]'%(cube_ra[0, -1], \n",
    "                                                                  cube_ra[0, 0], \n",
    "                                                                  cube_dec[0, 0], \n",
    "                                                                  cube_dec[-1, 0]))\n",
    "    \n",
    "    # calculate the distance between the sightline and the whole cube\n",
    "    dist_coord = tar_coord.separation(cube_coord)\n",
    "    dist_deg = dist_coord.degree # distance in degree \n",
    "    \n",
    "    # this create a 2d mask of [Dec, RA]\n",
    "    within_r_2d = dist_deg<=radius_deg/2. # beam should be in unit of degree. \n",
    "    print('2D MASK data shape: ', within_r_2d.shape)\n",
    "    \n",
    "    # this creates a 3 mask of (Vhel, Dec, RA) so that we can use it to take out the spec within the search area \n",
    "    within_r_3d = np.asarray([within_r_2d]*cube_vel.size)\n",
    "    print('3D MASK data shape: ', within_r_3d.shape)\n",
    "\n",
    "    # now mask the data \n",
    "    data = cube_data.copy()\n",
    "    data[np.logical_not(within_r_3d)] = np.nan\n",
    "\n",
    "    # take the mean value along the Dec (axis=2) and the RA (axis=1) directions \n",
    "    mean_spec = np.nanmean(np.nanmean(data, axis=2), axis=1)\n",
    "    \n",
    "    return cube_vel, mean_spec"
   ]
  },
  {
   "cell_type": "markdown",
   "metadata": {},
   "source": [
    "You can download the HI4PI data from http://cdsarc.u-strasbg.fr/viz-bin/qcat?J/A+A/594/A116. To get the relevant cubes, go to the FTP tab, select CUBES, then EQ2000, then CAR (meaning the cube data are organized in Cartesian projection). "
   ]
  },
  {
   "cell_type": "code",
   "execution_count": 4,
   "metadata": {},
   "outputs": [],
   "source": [
    "tar_ra = 150  # deg\n",
    "tar_dec = 20 # deg\n",
    "radius_deg = 16/60. # extract mean spectra from one beam, in unit of degree \n",
    "\n",
    "cube_file = '/Volumes/YongData2TB/HI4PI/CAR_F08.fits'\n",
    "header = fits.getheader(cube_file)\n",
    "cube_data = fits.getdata(cube_file)"
   ]
  },
  {
   "cell_type": "code",
   "execution_count": null,
   "metadata": {},
   "outputs": [],
   "source": []
  }
 ],
 "metadata": {
  "kernelspec": {
   "display_name": "Python 3",
   "language": "python",
   "name": "python3"
  },
  "language_info": {
   "codemirror_mode": {
    "name": "ipython",
    "version": 3
   },
   "file_extension": ".py",
   "mimetype": "text/x-python",
   "name": "python",
   "nbconvert_exporter": "python",
   "pygments_lexer": "ipython3",
   "version": "3.6.8"
  }
 },
 "nbformat": 4,
 "nbformat_minor": 2
}
