{
 "cells": [
  {
   "cell_type": "markdown",
   "metadata": {},
   "source": [
    "You can download the HI4PI data from http://cdsarc.u-strasbg.fr/viz-bin/qcat?J/A+A/594/A116. <br>\n",
    "* To get the relevant cubes, go to the FTP tab, select CUBES, then EQ2000, then CAR (meaning the cube data are organized in Cartesian projection). <br>\n",
    "* Each cube covers a 20x20 deg2 region in RA and DEC. You can check the coverage range of each cube here: https://github.com/yzhenggit/yzGALFAHI/blob/master/HI4PI_RADEC.dat <br>\n",
    "* For data information (resolution, sensitivity, etc) related to HI4PI and other HI survey, you can check table 1 in Josh's paper: https://ui.adsabs.harvard.edu/abs/2018ApJS..234....2P/abstract <br>\n",
    "\n",
    "\n",
    "If you want to download GALFA-HI, which has a finer angular resolution than HI4PI, you can click on the link in Table 3 of Josh's paper above (wide cubes, meaning it covers a wide range of velocity, something like +/-600 km/s. The narrow cubes have a better velocity resolution, but narrower velocity range). HI4PI is probably a better choice for your project. These GALFA-HI information is sort of irrevalent to what you want to do, but I thought it might be useful to include in case you are curious :) <br> \n",
    "\n",
    "This notebook works for both HI4PI and GALFA-HI cube. And should work for LAB cubes too, but might need some testing. <br>\n",
    "\n",
    "All velocities in these cubes are in heliocentric frame. So you'll need to convert vhelio to vlsr. If you don't have the conversion tool yet, check out this one: https://github.com/yzhenggit/yztools/blob/master/vhelio2vlsr.py, and use the vhelio2vlsr_Westmeier function. "
   ]
  },
  {
   "cell_type": "code",
   "execution_count": 1,
   "metadata": {},
   "outputs": [],
   "source": [
    "%matplotlib inline \n",
    "import astropy.io.fits as fits\n",
    "from astropy.coordinates import SkyCoord\n",
    "import astropy.io.fits as fits \n",
    "import astropy.units as u\n",
    "import numpy as np\n",
    "import matplotlib.pyplot as plt \n",
    "\n",
    "# you can download get_cubeinfo.py from my github\n",
    "# https://github.com/yzhenggit/yzGALFAHI/blob/master/get_cubeinfo.py\n",
    "# and then change the following to from get_cubeinfo import get_cubeinfo \n",
    "from yzGALFAHI.get_cubeinfo import get_cubeinfo "
   ]
  },
  {
   "cell_type": "code",
   "execution_count": 2,
   "metadata": {},
   "outputs": [],
   "source": [
    "def extract_HI_from_cube(tar_ra, tar_dec, header, cube_data, radius_deg):\n",
    "    '''\n",
    "    tar_ra/tar_dec: the ra/dec for the sightline, in degree\n",
    "    radius_deg: the radius of the extraction area, in unit of degree\n",
    "          Note that, HI4PI's beamsize is 16 arcmin\n",
    "          and GALFA-HI's beamsize is 4 arcmin. \n",
    "    '''\n",
    "    \n",
    "    # get sky coordinate for the target\n",
    "    tar_coord = SkyCoord(ra=tar_ra*u.deg, dec=tar_dec*u.deg, frame='icrs')\n",
    "    print('Sightline: RA=%.2f, DEC=%.2f, l=%.2f, b=%.2f (degree)'%(tar_ra, tar_dec, \n",
    "                                                                   tar_coord.galactic.l.degree, \n",
    "                                                                   tar_coord.galactic.b.degree))\n",
    "    print('Extracted within radius: %.2f arcmin (%.2f deg)'%(radius_deg*60, radius_deg))\n",
    "    \n",
    "    # parse the cube header information to get RA/DEC coordinators \n",
    "    cube_ra, cube_dec, cube_vel = get_cubeinfo(header)\n",
    "    cube_coord = SkyCoord(ra=cube_ra*u.deg, dec=cube_dec*u.deg, frame='icrs')\n",
    "    print('Cube RA range: [%.2f, %.2f], DEC range: [%.2f, %.2f]'%(cube_ra[0, -1], \n",
    "                                                                  cube_ra[0, 0], \n",
    "                                                                  cube_dec[0, 0], \n",
    "                                                                  cube_dec[-1, 0]))\n",
    "    \n",
    "    # calculate the distance between the sightline and the whole cube\n",
    "    dist_coord = tar_coord.separation(cube_coord)\n",
    "    dist_deg = dist_coord.degree # distance in degree \n",
    "    \n",
    "    # this create a 2d mask of [Dec, RA]\n",
    "    within_r_2d = dist_deg<=radius_deg/2. # beam should be in unit of degree. \n",
    "    print('2D MASK data shape: ', within_r_2d.shape)\n",
    "    \n",
    "    # this creates a 3 mask of (Vhel, Dec, RA) so that we can use it to take out the spec within the search area \n",
    "    within_r_3d = np.asarray([within_r_2d]*cube_vel.size)\n",
    "    print('3D MASK data shape: ', within_r_3d.shape)\n",
    "    \n",
    "    # 3D mask shape should be the same as the data cube shape \n",
    "    print('cube data shape: ', cube_data.shape)\n",
    "\n",
    "    # now mask the data \n",
    "    data = cube_data.copy()\n",
    "    data[np.logical_not(within_r_3d)] = np.nan\n",
    "\n",
    "    # take the mean value along the Dec (axis=2) and the RA (axis=1) directions \n",
    "    mean_spec = np.nanmean(np.nanmean(data, axis=2), axis=1)\n",
    "    \n",
    "    return cube_vel, mean_spec"
   ]
  },
  {
   "cell_type": "markdown",
   "metadata": {},
   "source": [
    "Specify the target sightline's coordinate, and read in the relevant cube "
   ]
  },
  {
   "cell_type": "code",
   "execution_count": 3,
   "metadata": {},
   "outputs": [],
   "source": [
    "tar_ra = 150  # deg\n",
    "tar_dec = 20 # deg\n",
    "\n",
    "# here I want to extract mean spectra from one beam, in unit of degree \n",
    "# you can do 30 arcmin, 1 deg, etc. to smooth out the spectra\n",
    "radius_deg = 16/60. \n",
    "\n",
    "cube_file = '/Volumes/YongData2TB/HI4PI/CAR_F08.fits'\n",
    "header = fits.getheader(cube_file)\n",
    "cube_data = fits.getdata(cube_file)"
   ]
  },
  {
   "cell_type": "markdown",
   "metadata": {},
   "source": [
    "Extract HI line"
   ]
  },
  {
   "cell_type": "code",
   "execution_count": 4,
   "metadata": {},
   "outputs": [
    {
     "name": "stdout",
     "output_type": "stream",
     "text": [
      "Sightline: RA=150.00, DEC=20.00, l=213.80, b=50.26 (degree)\n",
      "Extracted within radius: 16.00 arcmin (0.27 deg)\n",
      "Cube RA range: [139.00, 161.08], DEC range: [9.00, 31.08]\n",
      "2D MASK data shape:  (266, 266)\n",
      "3D MASK data shape:  (933, 266, 266)\n",
      "cube data shape:  (933, 266, 266)\n"
     ]
    },
    {
     "name": "stderr",
     "output_type": "stream",
     "text": [
      "/anaconda3/lib/python3.6/site-packages/ipykernel_launcher.py:44: RuntimeWarning: Mean of empty slice\n"
     ]
    }
   ],
   "source": [
    "cube_vel, mean_spec = extract_HI_from_cube(tar_ra, tar_dec, header, cube_data, radius_deg)"
   ]
  },
  {
   "cell_type": "code",
   "execution_count": 5,
   "metadata": {},
   "outputs": [
    {
     "data": {
      "text/plain": [
       "Text(0, 0.5, 'Tb (K)')"
      ]
     },
     "execution_count": 5,
     "metadata": {},
     "output_type": "execute_result"
    },
    {
     "data": {
      "image/png": "[encoded data removed]",
      "text/plain": [
       "<Figure size 576x432 with 1 Axes>"
      ]
     },
     "metadata": {
      "needs_background": "light"
     },
     "output_type": "display_data"
    }
   ],
   "source": [
    "plt.figure(figsize=(8, 6))\n",
    "plt.plot(cube_vel, mean_spec)\n",
    "plt.xlabel('Vhelio (km/s)')\n",
    "plt.ylabel('Tb (K)')"
   ]
  },
  {
   "cell_type": "code",
   "execution_count": null,
   "metadata": {},
   "outputs": [],
   "source": []
  },
  {
   "cell_type": "code",
   "execution_count": null,
   "metadata": {},
   "outputs": [],
   "source": []
  }
 ],
 "metadata": {
  "kernelspec": {
   "display_name": "Python 3",
   "language": "python",
   "name": "python3"
  },
  "language_info": {
   "codemirror_mode": {
    "name": "ipython",
    "version": 3
   },
   "file_extension": ".py",
   "mimetype": "text/x-python",
   "name": "python",
   "nbconvert_exporter": "python",
   "pygments_lexer": "ipython3",
   "version": "3.6.8"
  }
 },
 "nbformat": 4,
 "nbformat_minor": 2
}
